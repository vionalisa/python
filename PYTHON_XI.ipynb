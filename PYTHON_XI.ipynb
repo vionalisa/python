{
  "nbformat": 4,
  "nbformat_minor": 0,
  "metadata": {
    "colab": {
      "name": "PYTHON-XI",
      "provenance": [],
      "mount_file_id": "1iwGxYLjNYMfDHBqDCGnf4b8IpvGPOeqw",
      "authorship_tag": "ABX9TyMnGvwhb44So0y5LjfsFjuy",
      "include_colab_link": true
    },
    "kernelspec": {
      "name": "python3",
      "display_name": "Python 3"
    }
  },
  "cells": [
    {
      "cell_type": "markdown",
      "metadata": {
        "id": "view-in-github",
        "colab_type": "text"
      },
      "source": [
        "<a href=\"https://colab.research.google.com/github/vionalisa/python-X/blob/main/PYTHON_XI.ipynb\" target=\"_parent\"><img src=\"https://colab.research.google.com/assets/colab-badge.svg\" alt=\"Open In Colab\"/></a>"
      ]
    },
    {
      "cell_type": "code",
      "metadata": {
        "colab": {
          "base_uri": "https://localhost:8080/"
        },
        "id": "nFW2uret-HI_",
        "outputId": "0ae3c59e-d080-46e6-c089-eefe80e53450"
      },
      "source": [
        "from google.colab import drive\n",
        "drive.mount('/content/drive')"
      ],
      "execution_count": 1,
      "outputs": [
        {
          "output_type": "stream",
          "text": [
            "Drive already mounted at /content/drive; to attempt to forcibly remount, call drive.mount(\"/content/drive\", force_remount=True).\n"
          ],
          "name": "stdout"
        }
      ]
    },
    {
      "cell_type": "code",
      "metadata": {
        "colab": {
          "base_uri": "https://localhost:8080/"
        },
        "id": "SqTR7Yf-_hkn",
        "outputId": "8e1a37f5-916a-4de6-9883-0e54667e2c06"
      },
      "source": [
        "cd //content/drive/MyDrive/Colab Notebooks"
      ],
      "execution_count": 2,
      "outputs": [
        {
          "output_type": "stream",
          "text": [
            "/content/drive/MyDrive/Colab Notebooks\n"
          ],
          "name": "stdout"
        }
      ]
    },
    {
      "cell_type": "code",
      "metadata": {
        "colab": {
          "base_uri": "https://localhost:8080/"
        },
        "id": "-xntp-Ke_kcS",
        "outputId": "3850b2ca-d866-4620-91a3-77898672995d"
      },
      "source": [
        "ls"
      ],
      "execution_count": 3,
      "outputs": [
        {
          "output_type": "stream",
          "text": [
            " \u001b[0m\u001b[01;34m3scene\u001b[0m/          PYTHON-X.ipynb    Untitled1.ipynb\n",
            "\u001b[01;34m'Dataset Daun'\u001b[0m/   Untitled          Untitled2.ipynb\n",
            " \u001b[01;34mnmodel_scene\u001b[0m/    Untitled0.ipynb   Untitled3.ipynb\n"
          ],
          "name": "stdout"
        }
      ]
    },
    {
      "cell_type": "code",
      "metadata": {
        "id": "fahmVzJr_mXP"
      },
      "source": [
        "from keras.models import Sequential\n",
        "from keras.layers.core import Activation\n",
        "from keras.layers.core import Dense\n",
        "from keras.layers.core import Flatten\n",
        "from keras.optimizers import Adam\n",
        "from sklearn.preprocessing import LabelBinarizer\n",
        "from sklearn.model_selection import train_test_split\n",
        "from sklearn.metrics import classification_report\n",
        "from PIL import Image\n",
        "from imutils import paths \n",
        "import numpy as np\n",
        "import os"
      ],
      "execution_count": 4,
      "outputs": []
    },
    {
      "cell_type": "code",
      "metadata": {
        "colab": {
          "base_uri": "https://localhost:8080/"
        },
        "id": "SqkNGbcD_ovT",
        "outputId": "ac849d83-bee6-4ca2-fc6d-7e1282a4f1e2"
      },
      "source": [
        "print(\"[INFO] loading images...\")\n",
        "imagePaths = paths.list_images(\"Dataset Daun\")\n",
        "data = []\n",
        "labels = []"
      ],
      "execution_count": 5,
      "outputs": [
        {
          "output_type": "stream",
          "text": [
            "[INFO] loading images...\n"
          ],
          "name": "stdout"
        }
      ]
    },
    {
      "cell_type": "code",
      "metadata": {
        "id": "lk6ignaz_rE0"
      },
      "source": [
        "for i in imagePaths:\n",
        "  image = Image.open(i)\n",
        "  image = np.array(image.resize((64,64))) / 255.0 #normalisasi\n",
        "  data.append(image)\n",
        "\n",
        "  label = i.split(os.path.sep)[-2]\n",
        "  labels.append(label)"
      ],
      "execution_count": 6,
      "outputs": []
    },
    {
      "cell_type": "code",
      "metadata": {
        "colab": {
          "base_uri": "https://localhost:8080/"
        },
        "id": "vp9Li9iq_tB_",
        "outputId": "cd1cd7e0-db4d-4a31-ff92-fa69401ec876"
      },
      "source": [
        "print(labels)"
      ],
      "execution_count": 7,
      "outputs": [
        {
          "output_type": "stream",
          "text": [
            "['GMB_01', 'GMB_01', 'GMB_01', 'GMB_01', 'GMB_01', 'GMB_01', 'GMB_01', 'GMB_01', 'GMB_01', 'GMB_01', 'GMB_01', 'GMB_01', 'GMB_01', 'GMB_01', 'GMB_01', 'GMB_01', 'GMB_01', 'GMB_01', 'GMB_01', 'GMB_01', 'GMB_01', 'GMB_01', 'GMB_01', 'GMB_01', 'GMB_01', 'GMB_01', 'GMB_01', 'GMB_01', 'GMB_01', 'GMB_01', 'GMB_01', 'GMB_01', 'GMB_01', 'GMB_01', 'GMB_01', 'GMB_01', 'GMB_01', 'GMB_01', 'GMB_01', 'GMB_01', 'GMB_01', 'GMB_01', 'GMB_01', 'GMB_01', 'GMB_01', 'GMB_01', 'GMB_01', 'GMB_01', 'GMB_01', 'GMB_01', 'GMB_01', 'GMB_01', 'GMB_01', 'GMB_01', 'GMB_01', 'GMB_01', 'GMB_01', 'GMB_01', 'GMB_01', 'GMB_01', 'GMB_01', 'GMB_01', 'GMB_01', 'GMB_01', 'GMB_01', 'GMB_01', 'GMB_01', 'GMB_01', 'GMB_01', 'GMB_01', 'GMB_01', 'GMB_01', 'GMB_01', 'GMB_01', 'GMB_01', 'GMB_01', 'GMB_01', 'GMB_01', 'GMB_01', 'GMB_01', 'GMB_01', 'GMB_01', 'GMB_01', 'GMB_01', 'GMB_01', 'GMB_01', 'GMB_01', 'GMB_01', 'GMB_01', 'GMB_01', 'GMB_01', 'GMB_01', 'GMB_01', 'GMB_01', 'GMB_01', 'GMB_01', 'GMB_01', 'GMB_01', 'GMB_01', 'GMB_01', 'GMB_01', 'GMB_01', 'GMB_01', 'GMB_01', 'GMB_01', 'GMB_01', 'GMB_01', 'GMB_01', 'GMB_01', 'GMB_01', 'GMB_01', 'GMB_01', 'GMB_01', 'GMB_01', 'GMB_01', 'GMB_01', 'GMB_02', 'GMB_02', 'GMB_02', 'GMB_02', 'GMB_02', 'GMB_02', 'GMB_02', 'GMB_02', 'GMB_02', 'GMB_02', 'GMB_02', 'GMB_02', 'GMB_02', 'GMB_02', 'GMB_02', 'GMB_02', 'GMB_02', 'GMB_02', 'GMB_02', 'GMB_02', 'GMB_02', 'GMB_02', 'GMB_02', 'GMB_02', 'GMB_02', 'GMB_02', 'GMB_02', 'GMB_02', 'GMB_02', 'GMB_02', 'GMB_02', 'GMB_02', 'GMB_02', 'GMB_02', 'GMB_02', 'GMB_02', 'GMB_02', 'GMB_02', 'GMB_02', 'GMB_02', 'GMB_02', 'GMB_02', 'GMB_02', 'GMB_02', 'GMB_02', 'GMB_02', 'GMB_02', 'GMB_02', 'GMB_02', 'GMB_02', 'GMB_02', 'GMB_02', 'GMB_02', 'GMB_02', 'GMB_02', 'GMB_02', 'GMB_02', 'GMB_02', 'GMB_02', 'GMB_02', 'GMB_02', 'GMB_02', 'GMB_02', 'GMB_02', 'GMB_02', 'GMB_02', 'GMB_02', 'GMB_02', 'GMB_02', 'GMB_02', 'GMB_02', 'GMB_02', 'GMB_02', 'GMB_02', 'GMB_02', 'GMB_02', 'GMB_02', 'GMB_02', 'GMB_02', 'GMB_02', 'GMB_02', 'GMB_02', 'GMB_02', 'GMB_02', 'GMB_02', 'GMB_02', 'GMB_02', 'GMB_02', 'GMB_02', 'GMB_02', 'GMB_02', 'GMB_02', 'GMB_02', 'GMB_02', 'GMB_02', 'GMB_02', 'GMB_02', 'GMB_02', 'GMB_02', 'GMB_02', 'GMB_02', 'GMB_02', 'GMB_02', 'GMB_02', 'GMB_02', 'GMB_02', 'GMB_02', 'GMB_02', 'GMB_02', 'GMB_02', 'GMB_02', 'GMB_02', 'GMB_02', 'GMB_03', 'GMB_03', 'GMB_03', 'GMB_03', 'GMB_03', 'GMB_03', 'GMB_03', 'GMB_03', 'GMB_03', 'GMB_03', 'GMB_03', 'GMB_03', 'GMB_03', 'GMB_03', 'GMB_03', 'GMB_03', 'GMB_03', 'GMB_03', 'GMB_03', 'GMB_03', 'GMB_03', 'GMB_03', 'GMB_03', 'GMB_03', 'GMB_03', 'GMB_03', 'GMB_03', 'GMB_03', 'GMB_03', 'GMB_03', 'GMB_03', 'GMB_03', 'GMB_03', 'GMB_03', 'GMB_03', 'GMB_03', 'GMB_03', 'GMB_03', 'GMB_03', 'GMB_03', 'GMB_03', 'GMB_03', 'GMB_03', 'GMB_03', 'GMB_03', 'GMB_03', 'GMB_03', 'GMB_03', 'GMB_03', 'GMB_03', 'GMB_03', 'GMB_03', 'GMB_03', 'GMB_03', 'GMB_03', 'GMB_03', 'GMB_03', 'GMB_03', 'GMB_03', 'GMB_03', 'GMB_03', 'GMB_03', 'GMB_03', 'GMB_03', 'GMB_03', 'GMB_03', 'GMB_03', 'GMB_03', 'GMB_03', 'GMB_03', 'GMB_03', 'GMB_03', 'GMB_03', 'GMB_03', 'GMB_03', 'GMB_03', 'GMB_03', 'GMB_03', 'GMB_03', 'GMB_03', 'GMB_03', 'GMB_03', 'GMB_03', 'GMB_03', 'GMB_03', 'GMB_03', 'GMB_03', 'GMB_03', 'GMB_03', 'GMB_03', 'GMB_03', 'GMB_03', 'GMB_03', 'GMB_03', 'GMB_03', 'GMB_03', 'GMB_03', 'GMB_03', 'GMB_03', 'GMB_03', 'GMB_03', 'GMB_03', 'GMB_03', 'GMB_03', 'GMB_03', 'GMB_03', 'GMB_03', 'GMB_03', 'GMB_03', 'GMB_03', 'GMB_03', 'GMB_03', 'GMB_04', 'GMB_04', 'GMB_04', 'GMB_04', 'GMB_04', 'GMB_04', 'GMB_04', 'GMB_04', 'GMB_04', 'GMB_04', 'GMB_04', 'GMB_04', 'GMB_04', 'GMB_04', 'GMB_04', 'GMB_04', 'GMB_04', 'GMB_04', 'GMB_04', 'GMB_04', 'GMB_04', 'GMB_04', 'GMB_04', 'GMB_04', 'GMB_04', 'GMB_04', 'GMB_04', 'GMB_04', 'GMB_04', 'GMB_04', 'GMB_04', 'GMB_04', 'GMB_04', 'GMB_04', 'GMB_04', 'GMB_04', 'GMB_04', 'GMB_04', 'GMB_04', 'GMB_04', 'GMB_04', 'GMB_04', 'GMB_04', 'GMB_04', 'GMB_04', 'GMB_04', 'GMB_04', 'GMB_04', 'GMB_04', 'GMB_04', 'GMB_04', 'GMB_04', 'GMB_04', 'GMB_04', 'GMB_04', 'GMB_04', 'GMB_04', 'GMB_04', 'GMB_04', 'GMB_04', 'GMB_04', 'GMB_04', 'GMB_04', 'GMB_04', 'GMB_04', 'GMB_04', 'GMB_04', 'GMB_04', 'GMB_04', 'GMB_04', 'GMB_04', 'GMB_04', 'GMB_04', 'GMB_04', 'GMB_04', 'GMB_04', 'GMB_04', 'GMB_04', 'GMB_04', 'GMB_04', 'GMB_04', 'GMB_04', 'GMB_04', 'GMB_04', 'GMB_04', 'GMB_04', 'GMB_04', 'GMB_04', 'GMB_04', 'GMB_04', 'GMB_04', 'GMB_04', 'GMB_04', 'GMB_04', 'GMB_04', 'GMB_04', 'GMB_04', 'GMB_04', 'GMB_04', 'GMB_04', 'GMB_04', 'GMB_04', 'GMB_04', 'GMB_04', 'GMB_04', 'GMB_04', 'GMB_04', 'GMB_04', 'GMB_04', 'GMB_04', 'GMB_04', 'GMB_04', 'GMB_04', 'GMB_04', 'GMB_04', 'GMB_04', 'GMB_04', 'GMB_04', 'GMB_04', 'GMB_04', 'GMB_04', 'GMB_04', 'GMB_05', 'GMB_05', 'GMB_05', 'GMB_05', 'GMB_05', 'GMB_05', 'GMB_05', 'GMB_05', 'GMB_05', 'GMB_05', 'GMB_05', 'GMB_05', 'GMB_05', 'GMB_05', 'GMB_05', 'GMB_05', 'GMB_05', 'GMB_05', 'GMB_05', 'GMB_05', 'GMB_05', 'GMB_05', 'GMB_05', 'GMB_05', 'GMB_05', 'GMB_05', 'GMB_05', 'GMB_05', 'GMB_05', 'GMB_05', 'GMB_05', 'GMB_05', 'GMB_05', 'GMB_05', 'GMB_05', 'GMB_05', 'GMB_05', 'GMB_05', 'GMB_05', 'GMB_05', 'GMB_05', 'GMB_05', 'GMB_05', 'GMB_05', 'GMB_05', 'GMB_05', 'GMB_05', 'GMB_05', 'GMB_05', 'GMB_05', 'GMB_05', 'GMB_05', 'GMB_05', 'GMB_05', 'GMB_05', 'GMB_05', 'GMB_05', 'GMB_05', 'GMB_05', 'GMB_05', 'GMB_05', 'GMB_05', 'GMB_05', 'GMB_05', 'GMB_05', 'GMB_05', 'GMB_05', 'GMB_05', 'GMB_05', 'GMB_05', 'GMB_05', 'GMB_05', 'GMB_05', 'GMB_05', 'GMB_05', 'GMB_05', 'GMB_05', 'GMB_05', 'GMB_05', 'GMB_05', 'GMB_05', 'GMB_05', 'GMB_05', 'GMB_05', 'GMB_05', 'GMB_05', 'GMB_05', 'GMB_05', 'GMB_05', 'GMB_05', 'GMB_05', 'GMB_05', 'GMB_05', 'GMB_05', 'GMB_05', 'GMB_05', 'GMB_05', 'GMB_05', 'GMB_05', 'GMB_05', 'GMB_05', 'GMB_05', 'GMB_05', 'GMB_05', 'GMB_05', 'GMB_05', 'GMB_05', 'GMB_05', 'GMB_05', 'GMB_05', 'GMB_05', 'GMB_05', 'GMB_05', 'GMB_05', 'GMB_05', 'GMB_05', 'GMB_05', 'GMB_05', 'GMB_05', 'GMB_05', 'GMB_05']\n"
          ],
          "name": "stdout"
        }
      ]
    },
    {
      "cell_type": "code",
      "metadata": {
        "id": "K-mvnBtM_vKp"
      },
      "source": [
        "lb = LabelBinarizer()\n",
        "labels = lb.fit_transform(labels)"
      ],
      "execution_count": 8,
      "outputs": []
    },
    {
      "cell_type": "code",
      "metadata": {
        "id": "4Nbq-2IU_xr6",
        "colab": {
          "base_uri": "https://localhost:8080/"
        },
        "outputId": "3ed5ddda-3da5-476a-8d3f-6c5a2a8fada3"
      },
      "source": [
        "print(labels)"
      ],
      "execution_count": 9,
      "outputs": [
        {
          "output_type": "stream",
          "text": [
            "[[1 0 0 0 0]\n",
            " [1 0 0 0 0]\n",
            " [1 0 0 0 0]\n",
            " ...\n",
            " [0 0 0 0 1]\n",
            " [0 0 0 0 1]\n",
            " [0 0 0 0 1]]\n"
          ],
          "name": "stdout"
        }
      ]
    },
    {
      "cell_type": "code",
      "metadata": {
        "id": "RnygNn8Y_zgc",
        "colab": {
          "base_uri": "https://localhost:8080/"
        },
        "outputId": "3ac151e4-2d7c-443c-f533-677b762eef08"
      },
      "source": [
        "(trainX, testX, trainY, testY) = train_test_split(np.array(data), np.array(labels), test_size=0.25)\n",
        "print(trainX.shape)\n",
        "print(testX.shape)"
      ],
      "execution_count": 10,
      "outputs": [
        {
          "output_type": "stream",
          "text": [
            "(438, 64, 64, 3)\n",
            "(146, 64, 64, 3)\n"
          ],
          "name": "stdout"
        }
      ]
    },
    {
      "cell_type": "code",
      "metadata": {
        "id": "rtqtt22e_2LO"
      },
      "source": [
        "from keras.layers import Convolution2D, MaxPooling2D\n",
        "from keras.models import Sequential\n",
        "from keras.layers.core import Flatten, Dense\n",
        "#CNN\n",
        "model = Sequential()\n",
        "model.add(Convolution2D(21, (3,3), activation='relu', input_shape=(64,64,3)))\n",
        "model.add(MaxPooling2D(2,2))\n",
        "model.add(Convolution2D(21, (3,3), activation='relu'))\n",
        "model.add(MaxPooling2D(2,2))\n",
        "#fully connected layer\n",
        "model.add(Flatten())\n",
        "model.add(Dense(100, activation='relu'))\n",
        "model.add(Dense(5, activation='softmax'))"
      ],
      "execution_count": 11,
      "outputs": []
    },
    {
      "cell_type": "code",
      "metadata": {
        "id": "2HHl3LBR_5do",
        "colab": {
          "base_uri": "https://localhost:8080/"
        },
        "outputId": "a3e06f71-b069-4d7e-c22f-7d8ab165d77f"
      },
      "source": [
        "model.summary()"
      ],
      "execution_count": 12,
      "outputs": [
        {
          "output_type": "stream",
          "text": [
            "Model: \"sequential\"\n",
            "_________________________________________________________________\n",
            "Layer (type)                 Output Shape              Param #   \n",
            "=================================================================\n",
            "conv2d (Conv2D)              (None, 62, 62, 21)        588       \n",
            "_________________________________________________________________\n",
            "max_pooling2d (MaxPooling2D) (None, 31, 31, 21)        0         \n",
            "_________________________________________________________________\n",
            "conv2d_1 (Conv2D)            (None, 29, 29, 21)        3990      \n",
            "_________________________________________________________________\n",
            "max_pooling2d_1 (MaxPooling2 (None, 14, 14, 21)        0         \n",
            "_________________________________________________________________\n",
            "flatten (Flatten)            (None, 4116)              0         \n",
            "_________________________________________________________________\n",
            "dense (Dense)                (None, 100)               411700    \n",
            "_________________________________________________________________\n",
            "dense_1 (Dense)              (None, 5)                 505       \n",
            "=================================================================\n",
            "Total params: 416,783\n",
            "Trainable params: 416,783\n",
            "Non-trainable params: 0\n",
            "_________________________________________________________________\n"
          ],
          "name": "stdout"
        }
      ]
    },
    {
      "cell_type": "code",
      "metadata": {
        "id": "4zxNNLS4_7Qr",
        "colab": {
          "base_uri": "https://localhost:8080/"
        },
        "outputId": "385f4ace-3101-43cf-d380-f8b432891e88"
      },
      "source": [
        "print(\"[INFO] training network...\")\n",
        "opt = Adam(lr=1e-3, decay=1e-3 / 50)\n",
        "model.compile(loss=\"categorical_crossentropy\", optimizer=opt, metrics=[\"accuracy\"])\n",
        "H = model.fit(trainX, trainY, validation_data=(testX, testY), epochs=25, batch_size=30)"
      ],
      "execution_count": 13,
      "outputs": [
        {
          "output_type": "stream",
          "text": [
            "[INFO] training network...\n",
            "Epoch 1/25\n",
            "15/15 [==============================] - 2s 114ms/step - loss: 1.6194 - accuracy: 0.2489 - val_loss: 1.5492 - val_accuracy: 0.3630\n",
            "Epoch 2/25\n",
            "15/15 [==============================] - 2s 104ms/step - loss: 1.4311 - accuracy: 0.3950 - val_loss: 1.4052 - val_accuracy: 0.4178\n",
            "Epoch 3/25\n",
            "15/15 [==============================] - 2s 104ms/step - loss: 1.2127 - accuracy: 0.5297 - val_loss: 1.2160 - val_accuracy: 0.5000\n",
            "Epoch 4/25\n",
            "15/15 [==============================] - 2s 104ms/step - loss: 1.0799 - accuracy: 0.5639 - val_loss: 1.0754 - val_accuracy: 0.6027\n",
            "Epoch 5/25\n",
            "15/15 [==============================] - 2s 105ms/step - loss: 0.8915 - accuracy: 0.6712 - val_loss: 0.9387 - val_accuracy: 0.6096\n",
            "Epoch 6/25\n",
            "15/15 [==============================] - 2s 106ms/step - loss: 0.7426 - accuracy: 0.7192 - val_loss: 0.8116 - val_accuracy: 0.6849\n",
            "Epoch 7/25\n",
            "15/15 [==============================] - 2s 106ms/step - loss: 0.6400 - accuracy: 0.7717 - val_loss: 0.7377 - val_accuracy: 0.7397\n",
            "Epoch 8/25\n",
            "15/15 [==============================] - 2s 104ms/step - loss: 0.5593 - accuracy: 0.8059 - val_loss: 0.7086 - val_accuracy: 0.7192\n",
            "Epoch 9/25\n",
            "15/15 [==============================] - 2s 106ms/step - loss: 0.4756 - accuracy: 0.8447 - val_loss: 0.6763 - val_accuracy: 0.7808\n",
            "Epoch 10/25\n",
            "15/15 [==============================] - 2s 104ms/step - loss: 0.4274 - accuracy: 0.8470 - val_loss: 0.6366 - val_accuracy: 0.8082\n",
            "Epoch 11/25\n",
            "15/15 [==============================] - 2s 106ms/step - loss: 0.3711 - accuracy: 0.8721 - val_loss: 0.6777 - val_accuracy: 0.7192\n",
            "Epoch 12/25\n",
            "15/15 [==============================] - 2s 106ms/step - loss: 0.3504 - accuracy: 0.8858 - val_loss: 0.6563 - val_accuracy: 0.7740\n",
            "Epoch 13/25\n",
            "15/15 [==============================] - 2s 105ms/step - loss: 0.2724 - accuracy: 0.9338 - val_loss: 0.7210 - val_accuracy: 0.7534\n",
            "Epoch 14/25\n",
            "15/15 [==============================] - 2s 105ms/step - loss: 0.2518 - accuracy: 0.9247 - val_loss: 0.6498 - val_accuracy: 0.7877\n",
            "Epoch 15/25\n",
            "15/15 [==============================] - 2s 107ms/step - loss: 0.2124 - accuracy: 0.9406 - val_loss: 0.5892 - val_accuracy: 0.7740\n",
            "Epoch 16/25\n",
            "15/15 [==============================] - 2s 104ms/step - loss: 0.1565 - accuracy: 0.9543 - val_loss: 0.6340 - val_accuracy: 0.8014\n",
            "Epoch 17/25\n",
            "15/15 [==============================] - 2s 105ms/step - loss: 0.1525 - accuracy: 0.9543 - val_loss: 0.7885 - val_accuracy: 0.7534\n",
            "Epoch 18/25\n",
            "15/15 [==============================] - 2s 106ms/step - loss: 0.1563 - accuracy: 0.9452 - val_loss: 0.7857 - val_accuracy: 0.7192\n",
            "Epoch 19/25\n",
            "15/15 [==============================] - 2s 105ms/step - loss: 0.1503 - accuracy: 0.9498 - val_loss: 0.6262 - val_accuracy: 0.8082\n",
            "Epoch 20/25\n",
            "15/15 [==============================] - 2s 106ms/step - loss: 0.1238 - accuracy: 0.9635 - val_loss: 0.6093 - val_accuracy: 0.8151\n",
            "Epoch 21/25\n",
            "15/15 [==============================] - 2s 106ms/step - loss: 0.0948 - accuracy: 0.9863 - val_loss: 0.6913 - val_accuracy: 0.7945\n",
            "Epoch 22/25\n",
            "15/15 [==============================] - 2s 106ms/step - loss: 0.0893 - accuracy: 0.9817 - val_loss: 0.6989 - val_accuracy: 0.8082\n",
            "Epoch 23/25\n",
            "15/15 [==============================] - 2s 106ms/step - loss: 0.0644 - accuracy: 0.9932 - val_loss: 0.6722 - val_accuracy: 0.8288\n",
            "Epoch 24/25\n",
            "15/15 [==============================] - 2s 107ms/step - loss: 0.0492 - accuracy: 0.9977 - val_loss: 0.7118 - val_accuracy: 0.8219\n",
            "Epoch 25/25\n",
            "15/15 [==============================] - 2s 105ms/step - loss: 0.0557 - accuracy: 0.9863 - val_loss: 0.6857 - val_accuracy: 0.8014\n"
          ],
          "name": "stdout"
        }
      ]
    },
    {
      "cell_type": "code",
      "metadata": {
        "id": "tIWuU7iXAAAk",
        "colab": {
          "base_uri": "https://localhost:8080/",
          "height": 591
        },
        "outputId": "b381c76a-7c90-4c3a-d388-18a875c0ba60"
      },
      "source": [
        "import matplotlib.pyplot as plt\n",
        "\n",
        "print(H.history.keys())\n",
        "#accuracy\n",
        "plt.plot(H.history['accuracy'])\n",
        "plt.plot(H.history['val_accuracy'])\n",
        "plt.title('model accuracy')\n",
        "plt.ylabel('accuracy')\n",
        "plt.xlabel('epoch')\n",
        "plt.legend(['train', 'test'], loc='upper left')\n",
        "plt.show()\n",
        "#loss\n",
        "plt.plot(H.history['loss'])\n",
        "plt.plot(H.history['val_loss'])\n",
        "plt.title('model loss')\n",
        "plt.ylabel('loss')\n",
        "plt.xlabel('epoch')\n",
        "plt.legend(['train', 'test'], loc='upper left')\n",
        "plt.show()"
      ],
      "execution_count": 14,
      "outputs": [
        {
          "output_type": "stream",
          "text": [
            "dict_keys(['loss', 'accuracy', 'val_loss', 'val_accuracy'])\n"
          ],
          "name": "stdout"
        },
        {
          "output_type": "display_data",
          "data": {
            "image/png": "[encoded data removed]",
            "text/plain": [
              "<Figure size 432x288 with 1 Axes>"
            ]
          },
          "metadata": {
            "tags": [],
            "needs_background": "light"
          }
        },
        {
          "output_type": "display_data",
          "data": {
            "image/png": "[encoded data removed]",
            "text/plain": [
              "<Figure size 432x288 with 1 Axes>"
            ]
          },
          "metadata": {
            "tags": [],
            "needs_background": "light"
          }
        }
      ]
    },
    {
      "cell_type": "code",
      "metadata": {
        "id": "VbazISrxACZw",
        "colab": {
          "base_uri": "https://localhost:8080/"
        },
        "outputId": "1f903fb9-a2ee-428c-97f9-6adc67c51d7b"
      },
      "source": [
        "print(\"[INFO] evaluating network...\")\n",
        "predictions = model.predict(testX, batch_size=32)\n",
        "print(classification_report(testY.argmax(axis=1), predictions.argmax(axis=1), target_names=lb.classes_))"
      ],
      "execution_count": 15,
      "outputs": [
        {
          "output_type": "stream",
          "text": [
            "[INFO] evaluating network...\n",
            "              precision    recall  f1-score   support\n",
            "\n",
            "      GMB_01       0.84      0.57      0.68        28\n",
            "      GMB_02       0.79      0.82      0.81        33\n",
            "      GMB_03       0.89      0.86      0.87        28\n",
            "      GMB_04       0.76      0.81      0.79        27\n",
            "      GMB_05       0.76      0.93      0.84        30\n",
            "\n",
            "    accuracy                           0.80       146\n",
            "   macro avg       0.81      0.80      0.80       146\n",
            "weighted avg       0.81      0.80      0.80       146\n",
            "\n"
          ],
          "name": "stdout"
        }
      ]
    }
  ]
}